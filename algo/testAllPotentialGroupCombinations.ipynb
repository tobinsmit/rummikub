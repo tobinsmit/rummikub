{
    "cells": [
        {
            "cell_type": "code",
            "execution_count": 1,
            "metadata": {},
            "outputs": [],
            "source": [
                "import numpy as np\n",
                "import math\n",
                "import sys"
            ]
        },
        {
            "cell_type": "code",
            "execution_count": 2,
            "metadata": {},
            "outputs": [],
            "source": [
                "numberRange = [1,2,3,4,5,6,7,8,9,10,11,12,13]\n",
                "colorRange =['Red', 'Black', 'Blue', 'Yellow']"
            ]
        },
        {
            "cell_type": "code",
            "execution_count": 3,
            "metadata": {},
            "outputs": [
                {
                    "name": "stdout",
                    "output_type": "stream",
                    "text": [
                        "\n",
                        "\n",
                        "[]        []        [0]       [1]       [2]       [3, 4]    [5]       [6]       []        [7]       [8, 9]    [10, 11]  [12]      \n",
                        "[13]      [14]      [15]      [16]      [17]      []        []        []        []        [18]      [19, 20]  []        [21]      \n",
                        "[22, 23]  [24, 25]  [26]      [27, 28]  [29, 30]  [31]      [32, 33]  [34]      [35]      [36, 37]  [38, 39]  [40, 41]  [42, 43]  \n",
                        "[44, 45]  [46]      [47]      []        []        []        []        [48]      [49]      [50]      [51, 52]  [53]      [54]      \n",
                        "\n",
                        "\n",
                        "0         0         1         1         1         2         1         1         0         1         2         2         1         \n",
                        "1         1         1         1         1         0         0         0         0         1         2         0         1         \n",
                        "2         2         1         2         2         1         2         1         1         2         2         2         2         \n",
                        "2         1         1         0         0         0         0         1         1         1         2         1         1         \n"
                    ]
                }
            ],
            "source": [
                "def matrixToGroupAssignment(matrix):\n",
                "    o = {}\n",
                "    o['groupIdx'] = 0\n",
                "    def incGroupIdx(o):\n",
                "        r = o['groupIdx']\n",
                "        o['groupIdx'] += 1\n",
                "        return r\n",
                "\n",
                "    groupAssignments = [[[incGroupIdx(o) for i in range(tile)] for tile in color] for color in matrix]\n",
                "    return groupAssignments\n",
                "\n",
                "def printGroupAssignment(groupAssignment):\n",
                "    print()\n",
                "    for row in groupAssignment:\n",
                "        print()\n",
                "        for t in row:\n",
                "            print(str(t).ljust(10), end='')\n",
                "    print()\n",
                "\n",
                "def solve(matrix):\n",
                "    groupAssignments = matrixToGroupAssignment(matrix)\n",
                "    printGroupAssignment(groupAssignments)\n",
                "    pass\n",
                "\n",
                "matrix =  np.array([\n",
                "    # 1  2  3  4  5  6  7  8  9 10 11 12 13\n",
                "    [ 0, 0, 1, 1, 1, 2, 1, 1, 0, 1, 2, 2, 1], # Red\n",
                "    [ 1, 1, 1, 1, 1, 0, 0, 0, 0, 1, 2, 0, 1], # Black\n",
                "    [ 2, 2, 1, 2, 2, 1, 2, 1, 1, 2, 2, 2, 2], # Blue\n",
                "    [ 2, 1, 1, 0, 0, 0, 0, 1, 1, 1, 2, 1, 1], # Yellow\n",
                "], dtype=int)\n",
                "\n",
                "solve(matrix)\n",
                "printGroupAssignment(matrix)"
            ]
        }
    ],
    "metadata": {
        "interpreter": {
            "hash": "45f99090939504323f33c6bbba591bd73f5be1ff68125a13e5dc2b64d8ace248"
        },
        "kernelspec": {
            "display_name": "Python 3.9.7 64-bit ('venv': venv)",
            "name": "python3"
        },
        "language_info": {
            "codemirror_mode": {
                "name": "ipython",
                "version": 3
            },
            "file_extension": ".py",
            "mimetype": "text/x-python",
            "name": "python",
            "nbconvert_exporter": "python",
            "pygments_lexer": "ipython3",
            "version": "3.9.7"
        },
        "orig_nbformat": 4
    },
    "nbformat": 4,
    "nbformat_minor": 2
}
